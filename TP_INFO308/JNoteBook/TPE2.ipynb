{
 "cells": [
  {
   "cell_type": "markdown",
   "metadata": {},
   "source": [
    "# TPE 2"
   ]
  },
  {
   "cell_type": "markdown",
   "metadata": {},
   "source": [
    "```DESCRIPTION ::```\n",
    "\n",
    "\n",
    "**Sur la page https ://gs.statcounter.com/social-media-stats/all/cameroon exporter (au format .csv) les données 2018, 2019 et 2020 de l’utilisation des médias sociaux au Cameroun (sur toutes les plateformes = All platforms). Après avoir fusionné les données dans un seul fichier (les données de chaque média devant alors contenir les informations de janvier 2018 à décembre 2020), analyser les données de chaque média social séparément puis comparer l’utilisation de ces médias à la lumière de ces analyses unidimensionnelles. Commenter les statistiques et graphiques obtenus. Compte rendu à fournir avant la prochaine séance de cours (par mail) dans un document d’au plus 4 pages au format A4.**"
   ]
  },
  {
   "cell_type": "markdown",
   "metadata": {},
   "source": [
    "**Les Membres de notre groupe, sont:**\n",
    "> |           Nom    |      Prenom| Matricule|    Email|\n",
    "> |------------------|------------|----------|---------|\n",
    "> | BAKANG EKOSSO    |SALMA RIHANA| 17T2229  |rihana.bakang@facsciences-uy1.cm|\n",
    "> |DJIEMBOU TIENTCHEU|VICTOR NICO | 17T2051  |nico.djiembou@facsciences-uy1.cm|\n",
    "> |KENFACK TEMGOUA   |VANESSA     | 17J2871  |vanessa.kenfack@facsciences-uy1.cm|\n",
    "> |TITTI             |URSULA SOREL| 17L2969  |sorel.titti@facsciences-uy1.cm|\n",
    "\n"
   ]
  },
  {
   "cell_type": "markdown",
   "metadata": {},
   "source": [
    "**Les ressources telecharge sont dans** \n",
    "\n",
    "**../tpe2_res/**"
   ]
  },
  {
   "cell_type": "markdown",
   "metadata": {},
   "source": [
    "## Start"
   ]
  },
  {
   "cell_type": "code",
   "execution_count": 2,
   "metadata": {},
   "outputs": [],
   "source": [
    "# importation de pandas\n",
    "import pandas"
   ]
  },
  {
   "cell_type": "code",
   "execution_count": null,
   "metadata": {},
   "outputs": [],
   "source": []
  },
  {
   "cell_type": "code",
   "execution_count": 65,
   "metadata": {},
   "outputs": [],
   "source": [
    "# nous allons definir comme maximum de ligne a afficher dans le cadre de ce travail 15\n",
    "pandas.options.display.max_rows = 100"
   ]
  },
  {
   "cell_type": "code",
   "execution_count": 66,
   "metadata": {},
   "outputs": [
    {
     "data": {
      "text/html": [
       "<div>\n",
       "<style scoped>\n",
       "    .dataframe tbody tr th:only-of-type {\n",
       "        vertical-align: middle;\n",
       "    }\n",
       "\n",
       "    .dataframe tbody tr th {\n",
       "        vertical-align: top;\n",
       "    }\n",
       "\n",
       "    .dataframe thead th {\n",
       "        text-align: right;\n",
       "    }\n",
       "</style>\n",
       "<table border=\"1\" class=\"dataframe\">\n",
       "  <thead>\n",
       "    <tr style=\"text-align: right;\">\n",
       "      <th></th>\n",
       "      <th>Date</th>\n",
       "      <th>Facebook</th>\n",
       "      <th>Pinterest</th>\n",
       "      <th>YouTube</th>\n",
       "      <th>Twitter</th>\n",
       "      <th>Google+</th>\n",
       "      <th>Instagram</th>\n",
       "      <th>LinkedIn</th>\n",
       "      <th>Tumblr</th>\n",
       "      <th>reddit</th>\n",
       "      <th>VKontakte</th>\n",
       "      <th>Other</th>\n",
       "    </tr>\n",
       "  </thead>\n",
       "  <tbody>\n",
       "    <tr>\n",
       "      <th>0</th>\n",
       "      <td>2018-01</td>\n",
       "      <td>93.20</td>\n",
       "      <td>4.10</td>\n",
       "      <td>1.21</td>\n",
       "      <td>1.28</td>\n",
       "      <td>0.06</td>\n",
       "      <td>0.03</td>\n",
       "      <td>0.07</td>\n",
       "      <td>0.02</td>\n",
       "      <td>0.02</td>\n",
       "      <td>0.01</td>\n",
       "      <td>0.01</td>\n",
       "    </tr>\n",
       "    <tr>\n",
       "      <th>1</th>\n",
       "      <td>2018-02</td>\n",
       "      <td>91.40</td>\n",
       "      <td>5.00</td>\n",
       "      <td>1.75</td>\n",
       "      <td>1.44</td>\n",
       "      <td>0.10</td>\n",
       "      <td>0.09</td>\n",
       "      <td>0.15</td>\n",
       "      <td>0.03</td>\n",
       "      <td>0.03</td>\n",
       "      <td>0.01</td>\n",
       "      <td>0.01</td>\n",
       "    </tr>\n",
       "    <tr>\n",
       "      <th>2</th>\n",
       "      <td>2018-03</td>\n",
       "      <td>90.50</td>\n",
       "      <td>5.37</td>\n",
       "      <td>1.88</td>\n",
       "      <td>1.78</td>\n",
       "      <td>0.13</td>\n",
       "      <td>0.09</td>\n",
       "      <td>0.18</td>\n",
       "      <td>0.03</td>\n",
       "      <td>0.02</td>\n",
       "      <td>0.01</td>\n",
       "      <td>0.01</td>\n",
       "    </tr>\n",
       "    <tr>\n",
       "      <th>3</th>\n",
       "      <td>2018-04</td>\n",
       "      <td>91.48</td>\n",
       "      <td>5.43</td>\n",
       "      <td>1.58</td>\n",
       "      <td>1.13</td>\n",
       "      <td>0.13</td>\n",
       "      <td>0.08</td>\n",
       "      <td>0.13</td>\n",
       "      <td>0.01</td>\n",
       "      <td>0.01</td>\n",
       "      <td>0.01</td>\n",
       "      <td>0.01</td>\n",
       "    </tr>\n",
       "    <tr>\n",
       "      <th>4</th>\n",
       "      <td>2018-05</td>\n",
       "      <td>93.92</td>\n",
       "      <td>2.99</td>\n",
       "      <td>1.55</td>\n",
       "      <td>1.18</td>\n",
       "      <td>0.17</td>\n",
       "      <td>0.08</td>\n",
       "      <td>0.08</td>\n",
       "      <td>0.01</td>\n",
       "      <td>0.01</td>\n",
       "      <td>0.01</td>\n",
       "      <td>0.01</td>\n",
       "    </tr>\n",
       "  </tbody>\n",
       "</table>\n",
       "</div>"
      ],
      "text/plain": [
       "      Date  Facebook  Pinterest  YouTube  Twitter  Google+  Instagram  \\\n",
       "0  2018-01     93.20       4.10     1.21     1.28     0.06       0.03   \n",
       "1  2018-02     91.40       5.00     1.75     1.44     0.10       0.09   \n",
       "2  2018-03     90.50       5.37     1.88     1.78     0.13       0.09   \n",
       "3  2018-04     91.48       5.43     1.58     1.13     0.13       0.08   \n",
       "4  2018-05     93.92       2.99     1.55     1.18     0.17       0.08   \n",
       "\n",
       "   LinkedIn  Tumblr  reddit  VKontakte  Other  \n",
       "0      0.07    0.02    0.02       0.01   0.01  \n",
       "1      0.15    0.03    0.03       0.01   0.01  \n",
       "2      0.18    0.03    0.02       0.01   0.01  \n",
       "3      0.13    0.01    0.01       0.01   0.01  \n",
       "4      0.08    0.01    0.01       0.01   0.01  "
      ]
     },
     "execution_count": 66,
     "metadata": {},
     "output_type": "execute_result"
    }
   ],
   "source": [
    "# importation des fichier de donnees de l'annee 2018\n",
    "csv_2018 = pandas.read_csv(\"../tpe2_res/2018.csv\",sep = ',',header = 0)\n",
    "csv_2018.head()"
   ]
  },
  {
   "cell_type": "code",
   "execution_count": 67,
   "metadata": {},
   "outputs": [
    {
     "data": {
      "text/html": [
       "<div>\n",
       "<style scoped>\n",
       "    .dataframe tbody tr th:only-of-type {\n",
       "        vertical-align: middle;\n",
       "    }\n",
       "\n",
       "    .dataframe tbody tr th {\n",
       "        vertical-align: top;\n",
       "    }\n",
       "\n",
       "    .dataframe thead th {\n",
       "        text-align: right;\n",
       "    }\n",
       "</style>\n",
       "<table border=\"1\" class=\"dataframe\">\n",
       "  <thead>\n",
       "    <tr style=\"text-align: right;\">\n",
       "      <th></th>\n",
       "      <th>Date</th>\n",
       "      <th>Facebook</th>\n",
       "      <th>Pinterest</th>\n",
       "      <th>Twitter</th>\n",
       "      <th>YouTube</th>\n",
       "      <th>Instagram</th>\n",
       "      <th>LinkedIn</th>\n",
       "      <th>Tumblr</th>\n",
       "      <th>reddit</th>\n",
       "      <th>VKontakte</th>\n",
       "      <th>Google+</th>\n",
       "      <th>Other</th>\n",
       "    </tr>\n",
       "  </thead>\n",
       "  <tbody>\n",
       "    <tr>\n",
       "      <th>0</th>\n",
       "      <td>2019-01</td>\n",
       "      <td>91.66</td>\n",
       "      <td>3.63</td>\n",
       "      <td>2.65</td>\n",
       "      <td>1.37</td>\n",
       "      <td>0.49</td>\n",
       "      <td>0.04</td>\n",
       "      <td>0.04</td>\n",
       "      <td>0.02</td>\n",
       "      <td>0.03</td>\n",
       "      <td>0.05</td>\n",
       "      <td>0.01</td>\n",
       "    </tr>\n",
       "    <tr>\n",
       "      <th>1</th>\n",
       "      <td>2019-02</td>\n",
       "      <td>91.22</td>\n",
       "      <td>3.77</td>\n",
       "      <td>2.73</td>\n",
       "      <td>1.56</td>\n",
       "      <td>0.59</td>\n",
       "      <td>0.02</td>\n",
       "      <td>0.01</td>\n",
       "      <td>0.02</td>\n",
       "      <td>0.01</td>\n",
       "      <td>0.05</td>\n",
       "      <td>0.00</td>\n",
       "    </tr>\n",
       "    <tr>\n",
       "      <th>2</th>\n",
       "      <td>2019-03</td>\n",
       "      <td>93.03</td>\n",
       "      <td>3.52</td>\n",
       "      <td>1.52</td>\n",
       "      <td>1.04</td>\n",
       "      <td>0.81</td>\n",
       "      <td>0.02</td>\n",
       "      <td>0.01</td>\n",
       "      <td>0.01</td>\n",
       "      <td>0.01</td>\n",
       "      <td>0.02</td>\n",
       "      <td>0.00</td>\n",
       "    </tr>\n",
       "    <tr>\n",
       "      <th>3</th>\n",
       "      <td>2019-04</td>\n",
       "      <td>92.40</td>\n",
       "      <td>4.23</td>\n",
       "      <td>1.46</td>\n",
       "      <td>1.14</td>\n",
       "      <td>0.72</td>\n",
       "      <td>0.01</td>\n",
       "      <td>0.01</td>\n",
       "      <td>0.01</td>\n",
       "      <td>0.01</td>\n",
       "      <td>0.00</td>\n",
       "      <td>0.00</td>\n",
       "    </tr>\n",
       "    <tr>\n",
       "      <th>4</th>\n",
       "      <td>2019-05</td>\n",
       "      <td>93.67</td>\n",
       "      <td>3.65</td>\n",
       "      <td>1.26</td>\n",
       "      <td>0.93</td>\n",
       "      <td>0.44</td>\n",
       "      <td>0.01</td>\n",
       "      <td>0.02</td>\n",
       "      <td>0.01</td>\n",
       "      <td>0.01</td>\n",
       "      <td>0.00</td>\n",
       "      <td>0.00</td>\n",
       "    </tr>\n",
       "  </tbody>\n",
       "</table>\n",
       "</div>"
      ],
      "text/plain": [
       "      Date  Facebook  Pinterest  Twitter  YouTube  Instagram  LinkedIn  \\\n",
       "0  2019-01     91.66       3.63     2.65     1.37       0.49      0.04   \n",
       "1  2019-02     91.22       3.77     2.73     1.56       0.59      0.02   \n",
       "2  2019-03     93.03       3.52     1.52     1.04       0.81      0.02   \n",
       "3  2019-04     92.40       4.23     1.46     1.14       0.72      0.01   \n",
       "4  2019-05     93.67       3.65     1.26     0.93       0.44      0.01   \n",
       "\n",
       "   Tumblr  reddit  VKontakte  Google+  Other  \n",
       "0    0.04    0.02       0.03     0.05   0.01  \n",
       "1    0.01    0.02       0.01     0.05   0.00  \n",
       "2    0.01    0.01       0.01     0.02   0.00  \n",
       "3    0.01    0.01       0.01     0.00   0.00  \n",
       "4    0.02    0.01       0.01     0.00   0.00  "
      ]
     },
     "execution_count": 67,
     "metadata": {},
     "output_type": "execute_result"
    }
   ],
   "source": [
    "# importation des fichier de donnees de l'annee 2019\n",
    "csv_2019 = pandas.read_csv(\"../tpe2_res/2019.csv\",sep = ',',header = 0)\n",
    "csv_2019.head()"
   ]
  },
  {
   "cell_type": "code",
   "execution_count": 68,
   "metadata": {},
   "outputs": [
    {
     "data": {
      "text/html": [
       "<div>\n",
       "<style scoped>\n",
       "    .dataframe tbody tr th:only-of-type {\n",
       "        vertical-align: middle;\n",
       "    }\n",
       "\n",
       "    .dataframe tbody tr th {\n",
       "        vertical-align: top;\n",
       "    }\n",
       "\n",
       "    .dataframe thead th {\n",
       "        text-align: right;\n",
       "    }\n",
       "</style>\n",
       "<table border=\"1\" class=\"dataframe\">\n",
       "  <thead>\n",
       "    <tr style=\"text-align: right;\">\n",
       "      <th></th>\n",
       "      <th>Date</th>\n",
       "      <th>Facebook</th>\n",
       "      <th>Pinterest</th>\n",
       "      <th>Twitter</th>\n",
       "      <th>YouTube</th>\n",
       "      <th>Instagram</th>\n",
       "      <th>LinkedIn</th>\n",
       "      <th>reddit</th>\n",
       "      <th>Tumblr</th>\n",
       "      <th>VKontakte</th>\n",
       "      <th>Other</th>\n",
       "    </tr>\n",
       "  </thead>\n",
       "  <tbody>\n",
       "    <tr>\n",
       "      <th>0</th>\n",
       "      <td>2020-01</td>\n",
       "      <td>73.04</td>\n",
       "      <td>16.66</td>\n",
       "      <td>4.09</td>\n",
       "      <td>2.36</td>\n",
       "      <td>3.73</td>\n",
       "      <td>0.05</td>\n",
       "      <td>0.03</td>\n",
       "      <td>0.03</td>\n",
       "      <td>0.01</td>\n",
       "      <td>0.00</td>\n",
       "    </tr>\n",
       "    <tr>\n",
       "      <th>1</th>\n",
       "      <td>2020-02</td>\n",
       "      <td>72.24</td>\n",
       "      <td>16.68</td>\n",
       "      <td>4.23</td>\n",
       "      <td>2.47</td>\n",
       "      <td>4.08</td>\n",
       "      <td>0.09</td>\n",
       "      <td>0.10</td>\n",
       "      <td>0.10</td>\n",
       "      <td>0.00</td>\n",
       "      <td>0.01</td>\n",
       "    </tr>\n",
       "    <tr>\n",
       "      <th>2</th>\n",
       "      <td>2020-03</td>\n",
       "      <td>80.28</td>\n",
       "      <td>9.92</td>\n",
       "      <td>3.75</td>\n",
       "      <td>2.07</td>\n",
       "      <td>3.91</td>\n",
       "      <td>0.03</td>\n",
       "      <td>0.01</td>\n",
       "      <td>0.01</td>\n",
       "      <td>0.01</td>\n",
       "      <td>0.00</td>\n",
       "    </tr>\n",
       "    <tr>\n",
       "      <th>3</th>\n",
       "      <td>2020-04</td>\n",
       "      <td>73.22</td>\n",
       "      <td>12.05</td>\n",
       "      <td>6.06</td>\n",
       "      <td>4.07</td>\n",
       "      <td>4.40</td>\n",
       "      <td>0.05</td>\n",
       "      <td>0.02</td>\n",
       "      <td>0.05</td>\n",
       "      <td>0.07</td>\n",
       "      <td>0.01</td>\n",
       "    </tr>\n",
       "    <tr>\n",
       "      <th>4</th>\n",
       "      <td>2020-05</td>\n",
       "      <td>82.27</td>\n",
       "      <td>10.27</td>\n",
       "      <td>2.58</td>\n",
       "      <td>3.46</td>\n",
       "      <td>1.25</td>\n",
       "      <td>0.05</td>\n",
       "      <td>0.05</td>\n",
       "      <td>0.06</td>\n",
       "      <td>0.02</td>\n",
       "      <td>0.01</td>\n",
       "    </tr>\n",
       "  </tbody>\n",
       "</table>\n",
       "</div>"
      ],
      "text/plain": [
       "      Date  Facebook  Pinterest  Twitter  YouTube  Instagram  LinkedIn  \\\n",
       "0  2020-01     73.04      16.66     4.09     2.36       3.73      0.05   \n",
       "1  2020-02     72.24      16.68     4.23     2.47       4.08      0.09   \n",
       "2  2020-03     80.28       9.92     3.75     2.07       3.91      0.03   \n",
       "3  2020-04     73.22      12.05     6.06     4.07       4.40      0.05   \n",
       "4  2020-05     82.27      10.27     2.58     3.46       1.25      0.05   \n",
       "\n",
       "   reddit  Tumblr  VKontakte  Other  \n",
       "0    0.03    0.03       0.01   0.00  \n",
       "1    0.10    0.10       0.00   0.01  \n",
       "2    0.01    0.01       0.01   0.00  \n",
       "3    0.02    0.05       0.07   0.01  \n",
       "4    0.05    0.06       0.02   0.01  "
      ]
     },
     "execution_count": 68,
     "metadata": {},
     "output_type": "execute_result"
    }
   ],
   "source": [
    "# importation des fichier de donnees de l'annee 2020\n",
    "csv_2020 = pandas.read_csv(\"../tpe2_res/2020.csv\",sep = ',',header = 0)\n",
    "csv_2020.head()"
   ]
  },
  {
   "cell_type": "code",
   "execution_count": 76,
   "metadata": {},
   "outputs": [],
   "source": [
    "# fusion des dataframes de 2018, 2019 et 2020 \n",
    "csv = csv_2018.merge(csv_2019.merge(csv_2020, how=\"outer\"), how=\"outer\")\n",
    "# exportation du jeu de donnees fusionne\n",
    "csv.to_csv(\"../tpe2_res/merge.csv\", \n",
    "           index=False,sep = ',',\n",
    "           header = \n",
    "           [\"Date\",\"Facebook\",\"Pinterest\",\"YouTube\",\"Twitter\",\"Google+\",\"Instagram\",\"LinkedIn\",\"Tumblr\",\"reddit\",\"VKontakte\",\"Other\"] )\n",
    "\n"
   ]
  },
  {
   "cell_type": "code",
   "execution_count": null,
   "metadata": {},
   "outputs": [],
   "source": []
  },
  {
   "cell_type": "code",
   "execution_count": 77,
   "metadata": {},
   "outputs": [
    {
     "data": {
      "text/html": [
       "<div>\n",
       "<style scoped>\n",
       "    .dataframe tbody tr th:only-of-type {\n",
       "        vertical-align: middle;\n",
       "    }\n",
       "\n",
       "    .dataframe tbody tr th {\n",
       "        vertical-align: top;\n",
       "    }\n",
       "\n",
       "    .dataframe thead th {\n",
       "        text-align: right;\n",
       "    }\n",
       "</style>\n",
       "<table border=\"1\" class=\"dataframe\">\n",
       "  <thead>\n",
       "    <tr style=\"text-align: right;\">\n",
       "      <th></th>\n",
       "      <th>Date</th>\n",
       "      <th>Facebook</th>\n",
       "      <th>Pinterest</th>\n",
       "      <th>YouTube</th>\n",
       "      <th>Twitter</th>\n",
       "      <th>Google+</th>\n",
       "      <th>Instagram</th>\n",
       "      <th>LinkedIn</th>\n",
       "      <th>Tumblr</th>\n",
       "      <th>reddit</th>\n",
       "      <th>VKontakte</th>\n",
       "      <th>Other</th>\n",
       "    </tr>\n",
       "  </thead>\n",
       "  <tbody>\n",
       "    <tr>\n",
       "      <th>0</th>\n",
       "      <td>2018-01</td>\n",
       "      <td>93.20</td>\n",
       "      <td>4.10</td>\n",
       "      <td>1.21</td>\n",
       "      <td>1.28</td>\n",
       "      <td>0.06</td>\n",
       "      <td>0.03</td>\n",
       "      <td>0.07</td>\n",
       "      <td>0.02</td>\n",
       "      <td>0.02</td>\n",
       "      <td>0.01</td>\n",
       "      <td>0.01</td>\n",
       "    </tr>\n",
       "    <tr>\n",
       "      <th>1</th>\n",
       "      <td>2018-02</td>\n",
       "      <td>91.40</td>\n",
       "      <td>5.00</td>\n",
       "      <td>1.75</td>\n",
       "      <td>1.44</td>\n",
       "      <td>0.10</td>\n",
       "      <td>0.09</td>\n",
       "      <td>0.15</td>\n",
       "      <td>0.03</td>\n",
       "      <td>0.03</td>\n",
       "      <td>0.01</td>\n",
       "      <td>0.01</td>\n",
       "    </tr>\n",
       "    <tr>\n",
       "      <th>2</th>\n",
       "      <td>2018-03</td>\n",
       "      <td>90.50</td>\n",
       "      <td>5.37</td>\n",
       "      <td>1.88</td>\n",
       "      <td>1.78</td>\n",
       "      <td>0.13</td>\n",
       "      <td>0.09</td>\n",
       "      <td>0.18</td>\n",
       "      <td>0.03</td>\n",
       "      <td>0.02</td>\n",
       "      <td>0.01</td>\n",
       "      <td>0.01</td>\n",
       "    </tr>\n",
       "    <tr>\n",
       "      <th>3</th>\n",
       "      <td>2018-04</td>\n",
       "      <td>91.48</td>\n",
       "      <td>5.43</td>\n",
       "      <td>1.58</td>\n",
       "      <td>1.13</td>\n",
       "      <td>0.13</td>\n",
       "      <td>0.08</td>\n",
       "      <td>0.13</td>\n",
       "      <td>0.01</td>\n",
       "      <td>0.01</td>\n",
       "      <td>0.01</td>\n",
       "      <td>0.01</td>\n",
       "    </tr>\n",
       "    <tr>\n",
       "      <th>4</th>\n",
       "      <td>2018-05</td>\n",
       "      <td>93.92</td>\n",
       "      <td>2.99</td>\n",
       "      <td>1.55</td>\n",
       "      <td>1.18</td>\n",
       "      <td>0.17</td>\n",
       "      <td>0.08</td>\n",
       "      <td>0.08</td>\n",
       "      <td>0.01</td>\n",
       "      <td>0.01</td>\n",
       "      <td>0.01</td>\n",
       "      <td>0.01</td>\n",
       "    </tr>\n",
       "    <tr>\n",
       "      <th>5</th>\n",
       "      <td>2018-06</td>\n",
       "      <td>93.72</td>\n",
       "      <td>3.27</td>\n",
       "      <td>1.70</td>\n",
       "      <td>0.96</td>\n",
       "      <td>0.18</td>\n",
       "      <td>0.06</td>\n",
       "      <td>0.03</td>\n",
       "      <td>0.03</td>\n",
       "      <td>0.01</td>\n",
       "      <td>0.04</td>\n",
       "      <td>0.00</td>\n",
       "    </tr>\n",
       "    <tr>\n",
       "      <th>6</th>\n",
       "      <td>2018-07</td>\n",
       "      <td>93.68</td>\n",
       "      <td>2.93</td>\n",
       "      <td>1.81</td>\n",
       "      <td>1.21</td>\n",
       "      <td>0.18</td>\n",
       "      <td>0.08</td>\n",
       "      <td>0.03</td>\n",
       "      <td>0.02</td>\n",
       "      <td>0.02</td>\n",
       "      <td>0.03</td>\n",
       "      <td>0.00</td>\n",
       "    </tr>\n",
       "    <tr>\n",
       "      <th>7</th>\n",
       "      <td>2018-08</td>\n",
       "      <td>92.32</td>\n",
       "      <td>3.29</td>\n",
       "      <td>2.35</td>\n",
       "      <td>1.63</td>\n",
       "      <td>0.20</td>\n",
       "      <td>0.07</td>\n",
       "      <td>0.07</td>\n",
       "      <td>0.01</td>\n",
       "      <td>0.01</td>\n",
       "      <td>0.03</td>\n",
       "      <td>0.00</td>\n",
       "    </tr>\n",
       "    <tr>\n",
       "      <th>8</th>\n",
       "      <td>2018-09</td>\n",
       "      <td>90.96</td>\n",
       "      <td>4.12</td>\n",
       "      <td>2.84</td>\n",
       "      <td>1.55</td>\n",
       "      <td>0.27</td>\n",
       "      <td>0.14</td>\n",
       "      <td>0.04</td>\n",
       "      <td>0.04</td>\n",
       "      <td>0.01</td>\n",
       "      <td>0.02</td>\n",
       "      <td>0.00</td>\n",
       "    </tr>\n",
       "    <tr>\n",
       "      <th>9</th>\n",
       "      <td>2018-10</td>\n",
       "      <td>85.46</td>\n",
       "      <td>5.26</td>\n",
       "      <td>3.35</td>\n",
       "      <td>5.07</td>\n",
       "      <td>0.15</td>\n",
       "      <td>0.26</td>\n",
       "      <td>0.34</td>\n",
       "      <td>0.07</td>\n",
       "      <td>0.03</td>\n",
       "      <td>0.01</td>\n",
       "      <td>0.01</td>\n",
       "    </tr>\n",
       "    <tr>\n",
       "      <th>10</th>\n",
       "      <td>2018-11</td>\n",
       "      <td>90.60</td>\n",
       "      <td>3.69</td>\n",
       "      <td>2.66</td>\n",
       "      <td>2.24</td>\n",
       "      <td>0.07</td>\n",
       "      <td>0.55</td>\n",
       "      <td>0.08</td>\n",
       "      <td>0.04</td>\n",
       "      <td>0.01</td>\n",
       "      <td>0.02</td>\n",
       "      <td>0.03</td>\n",
       "    </tr>\n",
       "    <tr>\n",
       "      <th>11</th>\n",
       "      <td>2018-12</td>\n",
       "      <td>92.46</td>\n",
       "      <td>3.08</td>\n",
       "      <td>1.60</td>\n",
       "      <td>2.16</td>\n",
       "      <td>0.04</td>\n",
       "      <td>0.34</td>\n",
       "      <td>0.22</td>\n",
       "      <td>0.03</td>\n",
       "      <td>0.04</td>\n",
       "      <td>0.01</td>\n",
       "      <td>0.02</td>\n",
       "    </tr>\n",
       "    <tr>\n",
       "      <th>12</th>\n",
       "      <td>2019-01</td>\n",
       "      <td>91.66</td>\n",
       "      <td>3.63</td>\n",
       "      <td>1.37</td>\n",
       "      <td>2.65</td>\n",
       "      <td>0.05</td>\n",
       "      <td>0.49</td>\n",
       "      <td>0.04</td>\n",
       "      <td>0.04</td>\n",
       "      <td>0.02</td>\n",
       "      <td>0.03</td>\n",
       "      <td>0.01</td>\n",
       "    </tr>\n",
       "    <tr>\n",
       "      <th>13</th>\n",
       "      <td>2019-02</td>\n",
       "      <td>91.22</td>\n",
       "      <td>3.77</td>\n",
       "      <td>1.56</td>\n",
       "      <td>2.73</td>\n",
       "      <td>0.05</td>\n",
       "      <td>0.59</td>\n",
       "      <td>0.02</td>\n",
       "      <td>0.01</td>\n",
       "      <td>0.02</td>\n",
       "      <td>0.01</td>\n",
       "      <td>0.00</td>\n",
       "    </tr>\n",
       "    <tr>\n",
       "      <th>14</th>\n",
       "      <td>2019-03</td>\n",
       "      <td>93.03</td>\n",
       "      <td>3.52</td>\n",
       "      <td>1.04</td>\n",
       "      <td>1.52</td>\n",
       "      <td>0.02</td>\n",
       "      <td>0.81</td>\n",
       "      <td>0.02</td>\n",
       "      <td>0.01</td>\n",
       "      <td>0.01</td>\n",
       "      <td>0.01</td>\n",
       "      <td>0.00</td>\n",
       "    </tr>\n",
       "    <tr>\n",
       "      <th>15</th>\n",
       "      <td>2019-04</td>\n",
       "      <td>92.40</td>\n",
       "      <td>4.23</td>\n",
       "      <td>1.14</td>\n",
       "      <td>1.46</td>\n",
       "      <td>0.00</td>\n",
       "      <td>0.72</td>\n",
       "      <td>0.01</td>\n",
       "      <td>0.01</td>\n",
       "      <td>0.01</td>\n",
       "      <td>0.01</td>\n",
       "      <td>0.00</td>\n",
       "    </tr>\n",
       "    <tr>\n",
       "      <th>16</th>\n",
       "      <td>2019-05</td>\n",
       "      <td>93.67</td>\n",
       "      <td>3.65</td>\n",
       "      <td>0.93</td>\n",
       "      <td>1.26</td>\n",
       "      <td>0.00</td>\n",
       "      <td>0.44</td>\n",
       "      <td>0.01</td>\n",
       "      <td>0.02</td>\n",
       "      <td>0.01</td>\n",
       "      <td>0.01</td>\n",
       "      <td>0.00</td>\n",
       "    </tr>\n",
       "    <tr>\n",
       "      <th>17</th>\n",
       "      <td>2019-06</td>\n",
       "      <td>91.97</td>\n",
       "      <td>4.45</td>\n",
       "      <td>1.16</td>\n",
       "      <td>1.92</td>\n",
       "      <td>0.00</td>\n",
       "      <td>0.41</td>\n",
       "      <td>0.02</td>\n",
       "      <td>0.03</td>\n",
       "      <td>0.03</td>\n",
       "      <td>0.01</td>\n",
       "      <td>0.00</td>\n",
       "    </tr>\n",
       "    <tr>\n",
       "      <th>18</th>\n",
       "      <td>2019-07</td>\n",
       "      <td>92.65</td>\n",
       "      <td>3.74</td>\n",
       "      <td>1.01</td>\n",
       "      <td>1.93</td>\n",
       "      <td>0.00</td>\n",
       "      <td>0.63</td>\n",
       "      <td>0.02</td>\n",
       "      <td>0.01</td>\n",
       "      <td>0.01</td>\n",
       "      <td>0.01</td>\n",
       "      <td>0.00</td>\n",
       "    </tr>\n",
       "    <tr>\n",
       "      <th>19</th>\n",
       "      <td>2019-08</td>\n",
       "      <td>92.73</td>\n",
       "      <td>3.62</td>\n",
       "      <td>0.91</td>\n",
       "      <td>1.67</td>\n",
       "      <td>0.00</td>\n",
       "      <td>1.01</td>\n",
       "      <td>0.01</td>\n",
       "      <td>0.02</td>\n",
       "      <td>0.01</td>\n",
       "      <td>0.01</td>\n",
       "      <td>0.00</td>\n",
       "    </tr>\n",
       "    <tr>\n",
       "      <th>20</th>\n",
       "      <td>2019-09</td>\n",
       "      <td>92.50</td>\n",
       "      <td>4.25</td>\n",
       "      <td>1.05</td>\n",
       "      <td>1.37</td>\n",
       "      <td>0.00</td>\n",
       "      <td>0.77</td>\n",
       "      <td>0.02</td>\n",
       "      <td>0.02</td>\n",
       "      <td>0.00</td>\n",
       "      <td>0.02</td>\n",
       "      <td>0.00</td>\n",
       "    </tr>\n",
       "    <tr>\n",
       "      <th>21</th>\n",
       "      <td>2019-10</td>\n",
       "      <td>89.48</td>\n",
       "      <td>5.21</td>\n",
       "      <td>1.30</td>\n",
       "      <td>2.26</td>\n",
       "      <td>0.00</td>\n",
       "      <td>1.70</td>\n",
       "      <td>0.02</td>\n",
       "      <td>0.01</td>\n",
       "      <td>0.01</td>\n",
       "      <td>0.02</td>\n",
       "      <td>0.00</td>\n",
       "    </tr>\n",
       "    <tr>\n",
       "      <th>22</th>\n",
       "      <td>2019-11</td>\n",
       "      <td>86.37</td>\n",
       "      <td>7.76</td>\n",
       "      <td>1.38</td>\n",
       "      <td>2.19</td>\n",
       "      <td>0.00</td>\n",
       "      <td>2.25</td>\n",
       "      <td>0.02</td>\n",
       "      <td>0.01</td>\n",
       "      <td>0.01</td>\n",
       "      <td>0.01</td>\n",
       "      <td>0.00</td>\n",
       "    </tr>\n",
       "    <tr>\n",
       "      <th>23</th>\n",
       "      <td>2019-12</td>\n",
       "      <td>66.14</td>\n",
       "      <td>20.44</td>\n",
       "      <td>3.41</td>\n",
       "      <td>5.44</td>\n",
       "      <td>0.00</td>\n",
       "      <td>4.44</td>\n",
       "      <td>0.06</td>\n",
       "      <td>0.03</td>\n",
       "      <td>0.03</td>\n",
       "      <td>0.02</td>\n",
       "      <td>0.00</td>\n",
       "    </tr>\n",
       "    <tr>\n",
       "      <th>24</th>\n",
       "      <td>2020-01</td>\n",
       "      <td>73.04</td>\n",
       "      <td>16.66</td>\n",
       "      <td>2.36</td>\n",
       "      <td>4.09</td>\n",
       "      <td>NaN</td>\n",
       "      <td>3.73</td>\n",
       "      <td>0.05</td>\n",
       "      <td>0.03</td>\n",
       "      <td>0.03</td>\n",
       "      <td>0.01</td>\n",
       "      <td>0.00</td>\n",
       "    </tr>\n",
       "    <tr>\n",
       "      <th>25</th>\n",
       "      <td>2020-02</td>\n",
       "      <td>72.24</td>\n",
       "      <td>16.68</td>\n",
       "      <td>2.47</td>\n",
       "      <td>4.23</td>\n",
       "      <td>NaN</td>\n",
       "      <td>4.08</td>\n",
       "      <td>0.09</td>\n",
       "      <td>0.10</td>\n",
       "      <td>0.10</td>\n",
       "      <td>0.00</td>\n",
       "      <td>0.01</td>\n",
       "    </tr>\n",
       "    <tr>\n",
       "      <th>26</th>\n",
       "      <td>2020-03</td>\n",
       "      <td>80.28</td>\n",
       "      <td>9.92</td>\n",
       "      <td>2.07</td>\n",
       "      <td>3.75</td>\n",
       "      <td>NaN</td>\n",
       "      <td>3.91</td>\n",
       "      <td>0.03</td>\n",
       "      <td>0.01</td>\n",
       "      <td>0.01</td>\n",
       "      <td>0.01</td>\n",
       "      <td>0.00</td>\n",
       "    </tr>\n",
       "    <tr>\n",
       "      <th>27</th>\n",
       "      <td>2020-04</td>\n",
       "      <td>73.22</td>\n",
       "      <td>12.05</td>\n",
       "      <td>4.07</td>\n",
       "      <td>6.06</td>\n",
       "      <td>NaN</td>\n",
       "      <td>4.40</td>\n",
       "      <td>0.05</td>\n",
       "      <td>0.05</td>\n",
       "      <td>0.02</td>\n",
       "      <td>0.07</td>\n",
       "      <td>0.01</td>\n",
       "    </tr>\n",
       "    <tr>\n",
       "      <th>28</th>\n",
       "      <td>2020-05</td>\n",
       "      <td>82.27</td>\n",
       "      <td>10.27</td>\n",
       "      <td>3.46</td>\n",
       "      <td>2.58</td>\n",
       "      <td>NaN</td>\n",
       "      <td>1.25</td>\n",
       "      <td>0.05</td>\n",
       "      <td>0.06</td>\n",
       "      <td>0.05</td>\n",
       "      <td>0.02</td>\n",
       "      <td>0.01</td>\n",
       "    </tr>\n",
       "    <tr>\n",
       "      <th>29</th>\n",
       "      <td>2020-06</td>\n",
       "      <td>82.30</td>\n",
       "      <td>10.35</td>\n",
       "      <td>3.40</td>\n",
       "      <td>2.68</td>\n",
       "      <td>NaN</td>\n",
       "      <td>1.09</td>\n",
       "      <td>0.07</td>\n",
       "      <td>0.03</td>\n",
       "      <td>0.03</td>\n",
       "      <td>0.04</td>\n",
       "      <td>0.00</td>\n",
       "    </tr>\n",
       "    <tr>\n",
       "      <th>30</th>\n",
       "      <td>2020-07</td>\n",
       "      <td>82.62</td>\n",
       "      <td>10.87</td>\n",
       "      <td>3.17</td>\n",
       "      <td>2.16</td>\n",
       "      <td>NaN</td>\n",
       "      <td>1.06</td>\n",
       "      <td>0.05</td>\n",
       "      <td>0.03</td>\n",
       "      <td>0.02</td>\n",
       "      <td>0.03</td>\n",
       "      <td>0.00</td>\n",
       "    </tr>\n",
       "    <tr>\n",
       "      <th>31</th>\n",
       "      <td>2020-08</td>\n",
       "      <td>81.96</td>\n",
       "      <td>11.04</td>\n",
       "      <td>3.43</td>\n",
       "      <td>2.16</td>\n",
       "      <td>NaN</td>\n",
       "      <td>1.22</td>\n",
       "      <td>0.09</td>\n",
       "      <td>0.03</td>\n",
       "      <td>0.03</td>\n",
       "      <td>0.03</td>\n",
       "      <td>0.01</td>\n",
       "    </tr>\n",
       "    <tr>\n",
       "      <th>32</th>\n",
       "      <td>2020-09</td>\n",
       "      <td>78.03</td>\n",
       "      <td>14.06</td>\n",
       "      <td>4.17</td>\n",
       "      <td>2.81</td>\n",
       "      <td>NaN</td>\n",
       "      <td>0.70</td>\n",
       "      <td>0.11</td>\n",
       "      <td>0.03</td>\n",
       "      <td>0.04</td>\n",
       "      <td>0.05</td>\n",
       "      <td>0.01</td>\n",
       "    </tr>\n",
       "    <tr>\n",
       "      <th>33</th>\n",
       "      <td>2020-10</td>\n",
       "      <td>89.01</td>\n",
       "      <td>7.35</td>\n",
       "      <td>1.70</td>\n",
       "      <td>1.49</td>\n",
       "      <td>NaN</td>\n",
       "      <td>0.35</td>\n",
       "      <td>0.04</td>\n",
       "      <td>0.03</td>\n",
       "      <td>0.01</td>\n",
       "      <td>0.02</td>\n",
       "      <td>0.00</td>\n",
       "    </tr>\n",
       "    <tr>\n",
       "      <th>34</th>\n",
       "      <td>2020-11</td>\n",
       "      <td>84.29</td>\n",
       "      <td>8.99</td>\n",
       "      <td>2.05</td>\n",
       "      <td>4.02</td>\n",
       "      <td>NaN</td>\n",
       "      <td>0.53</td>\n",
       "      <td>0.04</td>\n",
       "      <td>0.02</td>\n",
       "      <td>0.03</td>\n",
       "      <td>0.02</td>\n",
       "      <td>0.00</td>\n",
       "    </tr>\n",
       "    <tr>\n",
       "      <th>35</th>\n",
       "      <td>2020-12</td>\n",
       "      <td>85.56</td>\n",
       "      <td>8.26</td>\n",
       "      <td>1.70</td>\n",
       "      <td>3.81</td>\n",
       "      <td>NaN</td>\n",
       "      <td>0.44</td>\n",
       "      <td>0.07</td>\n",
       "      <td>0.01</td>\n",
       "      <td>0.15</td>\n",
       "      <td>0.01</td>\n",
       "      <td>0.00</td>\n",
       "    </tr>\n",
       "  </tbody>\n",
       "</table>\n",
       "</div>"
      ],
      "text/plain": [
       "       Date  Facebook  Pinterest  YouTube  Twitter  Google+  Instagram  \\\n",
       "0   2018-01     93.20       4.10     1.21     1.28     0.06       0.03   \n",
       "1   2018-02     91.40       5.00     1.75     1.44     0.10       0.09   \n",
       "2   2018-03     90.50       5.37     1.88     1.78     0.13       0.09   \n",
       "3   2018-04     91.48       5.43     1.58     1.13     0.13       0.08   \n",
       "4   2018-05     93.92       2.99     1.55     1.18     0.17       0.08   \n",
       "5   2018-06     93.72       3.27     1.70     0.96     0.18       0.06   \n",
       "6   2018-07     93.68       2.93     1.81     1.21     0.18       0.08   \n",
       "7   2018-08     92.32       3.29     2.35     1.63     0.20       0.07   \n",
       "8   2018-09     90.96       4.12     2.84     1.55     0.27       0.14   \n",
       "9   2018-10     85.46       5.26     3.35     5.07     0.15       0.26   \n",
       "10  2018-11     90.60       3.69     2.66     2.24     0.07       0.55   \n",
       "11  2018-12     92.46       3.08     1.60     2.16     0.04       0.34   \n",
       "12  2019-01     91.66       3.63     1.37     2.65     0.05       0.49   \n",
       "13  2019-02     91.22       3.77     1.56     2.73     0.05       0.59   \n",
       "14  2019-03     93.03       3.52     1.04     1.52     0.02       0.81   \n",
       "15  2019-04     92.40       4.23     1.14     1.46     0.00       0.72   \n",
       "16  2019-05     93.67       3.65     0.93     1.26     0.00       0.44   \n",
       "17  2019-06     91.97       4.45     1.16     1.92     0.00       0.41   \n",
       "18  2019-07     92.65       3.74     1.01     1.93     0.00       0.63   \n",
       "19  2019-08     92.73       3.62     0.91     1.67     0.00       1.01   \n",
       "20  2019-09     92.50       4.25     1.05     1.37     0.00       0.77   \n",
       "21  2019-10     89.48       5.21     1.30     2.26     0.00       1.70   \n",
       "22  2019-11     86.37       7.76     1.38     2.19     0.00       2.25   \n",
       "23  2019-12     66.14      20.44     3.41     5.44     0.00       4.44   \n",
       "24  2020-01     73.04      16.66     2.36     4.09      NaN       3.73   \n",
       "25  2020-02     72.24      16.68     2.47     4.23      NaN       4.08   \n",
       "26  2020-03     80.28       9.92     2.07     3.75      NaN       3.91   \n",
       "27  2020-04     73.22      12.05     4.07     6.06      NaN       4.40   \n",
       "28  2020-05     82.27      10.27     3.46     2.58      NaN       1.25   \n",
       "29  2020-06     82.30      10.35     3.40     2.68      NaN       1.09   \n",
       "30  2020-07     82.62      10.87     3.17     2.16      NaN       1.06   \n",
       "31  2020-08     81.96      11.04     3.43     2.16      NaN       1.22   \n",
       "32  2020-09     78.03      14.06     4.17     2.81      NaN       0.70   \n",
       "33  2020-10     89.01       7.35     1.70     1.49      NaN       0.35   \n",
       "34  2020-11     84.29       8.99     2.05     4.02      NaN       0.53   \n",
       "35  2020-12     85.56       8.26     1.70     3.81      NaN       0.44   \n",
       "\n",
       "    LinkedIn  Tumblr  reddit  VKontakte  Other  \n",
       "0       0.07    0.02    0.02       0.01   0.01  \n",
       "1       0.15    0.03    0.03       0.01   0.01  \n",
       "2       0.18    0.03    0.02       0.01   0.01  \n",
       "3       0.13    0.01    0.01       0.01   0.01  \n",
       "4       0.08    0.01    0.01       0.01   0.01  \n",
       "5       0.03    0.03    0.01       0.04   0.00  \n",
       "6       0.03    0.02    0.02       0.03   0.00  \n",
       "7       0.07    0.01    0.01       0.03   0.00  \n",
       "8       0.04    0.04    0.01       0.02   0.00  \n",
       "9       0.34    0.07    0.03       0.01   0.01  \n",
       "10      0.08    0.04    0.01       0.02   0.03  \n",
       "11      0.22    0.03    0.04       0.01   0.02  \n",
       "12      0.04    0.04    0.02       0.03   0.01  \n",
       "13      0.02    0.01    0.02       0.01   0.00  \n",
       "14      0.02    0.01    0.01       0.01   0.00  \n",
       "15      0.01    0.01    0.01       0.01   0.00  \n",
       "16      0.01    0.02    0.01       0.01   0.00  \n",
       "17      0.02    0.03    0.03       0.01   0.00  \n",
       "18      0.02    0.01    0.01       0.01   0.00  \n",
       "19      0.01    0.02    0.01       0.01   0.00  \n",
       "20      0.02    0.02    0.00       0.02   0.00  \n",
       "21      0.02    0.01    0.01       0.02   0.00  \n",
       "22      0.02    0.01    0.01       0.01   0.00  \n",
       "23      0.06    0.03    0.03       0.02   0.00  \n",
       "24      0.05    0.03    0.03       0.01   0.00  \n",
       "25      0.09    0.10    0.10       0.00   0.01  \n",
       "26      0.03    0.01    0.01       0.01   0.00  \n",
       "27      0.05    0.05    0.02       0.07   0.01  \n",
       "28      0.05    0.06    0.05       0.02   0.01  \n",
       "29      0.07    0.03    0.03       0.04   0.00  \n",
       "30      0.05    0.03    0.02       0.03   0.00  \n",
       "31      0.09    0.03    0.03       0.03   0.01  \n",
       "32      0.11    0.03    0.04       0.05   0.01  \n",
       "33      0.04    0.03    0.01       0.02   0.00  \n",
       "34      0.04    0.02    0.03       0.02   0.00  \n",
       "35      0.07    0.01    0.15       0.01   0.00  "
      ]
     },
     "execution_count": 77,
     "metadata": {},
     "output_type": "execute_result"
    }
   ],
   "source": [
    "# ouvrir le jeu de donnees de 2028-01 a 2020-12\n",
    "csv = pandas.read_csv(\"../tpe2_res/merge.csv\",sep = ',',header = 0)\n",
    "csv.head(36)"
   ]
  },
  {
   "cell_type": "code",
   "execution_count": 78,
   "metadata": {},
   "outputs": [
    {
     "data": {
      "text/plain": [
       "Index(['Date', 'Facebook', 'Pinterest', 'YouTube', 'Twitter', 'Google+',\n",
       "       'Instagram', 'LinkedIn', 'Tumblr', 'reddit', 'VKontakte', 'Other'],\n",
       "      dtype='object')"
      ]
     },
     "execution_count": 78,
     "metadata": {},
     "output_type": "execute_result"
    }
   ],
   "source": [
    "# essayer de redefinir les indexs\n",
    "csv.columns"
   ]
  },
  {
   "cell_type": "code",
   "execution_count": 79,
   "metadata": {},
   "outputs": [
    {
     "name": "stdout",
     "output_type": "stream",
     "text": [
      "<class 'pandas.core.frame.DataFrame'>\n",
      "RangeIndex: 36 entries, 0 to 35\n",
      "Data columns (total 12 columns):\n",
      " #   Column     Non-Null Count  Dtype  \n",
      "---  ------     --------------  -----  \n",
      " 0   Date       36 non-null     object \n",
      " 1   Facebook   36 non-null     float64\n",
      " 2   Pinterest  36 non-null     float64\n",
      " 3   YouTube    36 non-null     float64\n",
      " 4   Twitter    36 non-null     float64\n",
      " 5   Google+    24 non-null     float64\n",
      " 6   Instagram  36 non-null     float64\n",
      " 7   LinkedIn   36 non-null     float64\n",
      " 8   Tumblr     36 non-null     float64\n",
      " 9   reddit     36 non-null     float64\n",
      " 10  VKontakte  36 non-null     float64\n",
      " 11  Other      36 non-null     float64\n",
      "dtypes: float64(11), object(1)\n",
      "memory usage: 3.5+ KB\n"
     ]
    }
   ],
   "source": [
    "# moyen\n",
    "csv.info()"
   ]
  },
  {
   "cell_type": "code",
   "execution_count": 80,
   "metadata": {},
   "outputs": [
    {
     "data": {
      "text/html": [
       "<div>\n",
       "<style scoped>\n",
       "    .dataframe tbody tr th:only-of-type {\n",
       "        vertical-align: middle;\n",
       "    }\n",
       "\n",
       "    .dataframe tbody tr th {\n",
       "        vertical-align: top;\n",
       "    }\n",
       "\n",
       "    .dataframe thead th {\n",
       "        text-align: right;\n",
       "    }\n",
       "</style>\n",
       "<table border=\"1\" class=\"dataframe\">\n",
       "  <thead>\n",
       "    <tr style=\"text-align: right;\">\n",
       "      <th></th>\n",
       "      <th>Facebook</th>\n",
       "      <th>Pinterest</th>\n",
       "      <th>YouTube</th>\n",
       "      <th>Twitter</th>\n",
       "      <th>Google+</th>\n",
       "      <th>Instagram</th>\n",
       "      <th>LinkedIn</th>\n",
       "      <th>Tumblr</th>\n",
       "      <th>reddit</th>\n",
       "      <th>VKontakte</th>\n",
       "      <th>Other</th>\n",
       "    </tr>\n",
       "  </thead>\n",
       "  <tbody>\n",
       "    <tr>\n",
       "      <th>count</th>\n",
       "      <td>36.000000</td>\n",
       "      <td>36.000000</td>\n",
       "      <td>36.000000</td>\n",
       "      <td>36.000000</td>\n",
       "      <td>24.000000</td>\n",
       "      <td>36.000000</td>\n",
       "      <td>36.000000</td>\n",
       "      <td>36.00000</td>\n",
       "      <td>36.000000</td>\n",
       "      <td>36.000000</td>\n",
       "      <td>36.000000</td>\n",
       "    </tr>\n",
       "    <tr>\n",
       "      <th>mean</th>\n",
       "      <td>87.176111</td>\n",
       "      <td>7.036111</td>\n",
       "      <td>2.071944</td>\n",
       "      <td>2.440833</td>\n",
       "      <td>0.075000</td>\n",
       "      <td>1.080278</td>\n",
       "      <td>0.067500</td>\n",
       "      <td>0.02750</td>\n",
       "      <td>0.025278</td>\n",
       "      <td>0.019167</td>\n",
       "      <td>0.004722</td>\n",
       "    </tr>\n",
       "    <tr>\n",
       "      <th>std</th>\n",
       "      <td>7.284973</td>\n",
       "      <td>4.531016</td>\n",
       "      <td>0.946246</td>\n",
       "      <td>1.302263</td>\n",
       "      <td>0.081667</td>\n",
       "      <td>1.330902</td>\n",
       "      <td>0.067247</td>\n",
       "      <td>0.01918</td>\n",
       "      <td>0.027618</td>\n",
       "      <td>0.014015</td>\n",
       "      <td>0.006964</td>\n",
       "    </tr>\n",
       "    <tr>\n",
       "      <th>min</th>\n",
       "      <td>66.140000</td>\n",
       "      <td>2.930000</td>\n",
       "      <td>0.910000</td>\n",
       "      <td>0.960000</td>\n",
       "      <td>0.000000</td>\n",
       "      <td>0.030000</td>\n",
       "      <td>0.010000</td>\n",
       "      <td>0.01000</td>\n",
       "      <td>0.000000</td>\n",
       "      <td>0.000000</td>\n",
       "      <td>0.000000</td>\n",
       "    </tr>\n",
       "    <tr>\n",
       "      <th>25%</th>\n",
       "      <td>82.540000</td>\n",
       "      <td>3.680000</td>\n",
       "      <td>1.352500</td>\n",
       "      <td>1.482500</td>\n",
       "      <td>0.000000</td>\n",
       "      <td>0.230000</td>\n",
       "      <td>0.020000</td>\n",
       "      <td>0.01000</td>\n",
       "      <td>0.010000</td>\n",
       "      <td>0.010000</td>\n",
       "      <td>0.000000</td>\n",
       "    </tr>\n",
       "    <tr>\n",
       "      <th>50%</th>\n",
       "      <td>90.780000</td>\n",
       "      <td>5.105000</td>\n",
       "      <td>1.725000</td>\n",
       "      <td>2.160000</td>\n",
       "      <td>0.050000</td>\n",
       "      <td>0.570000</td>\n",
       "      <td>0.050000</td>\n",
       "      <td>0.03000</td>\n",
       "      <td>0.020000</td>\n",
       "      <td>0.010000</td>\n",
       "      <td>0.000000</td>\n",
       "    </tr>\n",
       "    <tr>\n",
       "      <th>75%</th>\n",
       "      <td>92.470000</td>\n",
       "      <td>10.007500</td>\n",
       "      <td>2.705000</td>\n",
       "      <td>2.750000</td>\n",
       "      <td>0.135000</td>\n",
       "      <td>1.122500</td>\n",
       "      <td>0.080000</td>\n",
       "      <td>0.03000</td>\n",
       "      <td>0.030000</td>\n",
       "      <td>0.022500</td>\n",
       "      <td>0.010000</td>\n",
       "    </tr>\n",
       "    <tr>\n",
       "      <th>max</th>\n",
       "      <td>93.920000</td>\n",
       "      <td>20.440000</td>\n",
       "      <td>4.170000</td>\n",
       "      <td>6.060000</td>\n",
       "      <td>0.270000</td>\n",
       "      <td>4.440000</td>\n",
       "      <td>0.340000</td>\n",
       "      <td>0.10000</td>\n",
       "      <td>0.150000</td>\n",
       "      <td>0.070000</td>\n",
       "      <td>0.030000</td>\n",
       "    </tr>\n",
       "  </tbody>\n",
       "</table>\n",
       "</div>"
      ],
      "text/plain": [
       "        Facebook  Pinterest    YouTube    Twitter    Google+  Instagram  \\\n",
       "count  36.000000  36.000000  36.000000  36.000000  24.000000  36.000000   \n",
       "mean   87.176111   7.036111   2.071944   2.440833   0.075000   1.080278   \n",
       "std     7.284973   4.531016   0.946246   1.302263   0.081667   1.330902   \n",
       "min    66.140000   2.930000   0.910000   0.960000   0.000000   0.030000   \n",
       "25%    82.540000   3.680000   1.352500   1.482500   0.000000   0.230000   \n",
       "50%    90.780000   5.105000   1.725000   2.160000   0.050000   0.570000   \n",
       "75%    92.470000  10.007500   2.705000   2.750000   0.135000   1.122500   \n",
       "max    93.920000  20.440000   4.170000   6.060000   0.270000   4.440000   \n",
       "\n",
       "        LinkedIn    Tumblr     reddit  VKontakte      Other  \n",
       "count  36.000000  36.00000  36.000000  36.000000  36.000000  \n",
       "mean    0.067500   0.02750   0.025278   0.019167   0.004722  \n",
       "std     0.067247   0.01918   0.027618   0.014015   0.006964  \n",
       "min     0.010000   0.01000   0.000000   0.000000   0.000000  \n",
       "25%     0.020000   0.01000   0.010000   0.010000   0.000000  \n",
       "50%     0.050000   0.03000   0.020000   0.010000   0.000000  \n",
       "75%     0.080000   0.03000   0.030000   0.022500   0.010000  \n",
       "max     0.340000   0.10000   0.150000   0.070000   0.030000  "
      ]
     },
     "execution_count": 80,
     "metadata": {},
     "output_type": "execute_result"
    }
   ],
   "source": [
    "# description\n",
    "csv.describe()"
   ]
  },
  {
   "cell_type": "code",
   "execution_count": 81,
   "metadata": {},
   "outputs": [
    {
     "data": {
      "text/plain": [
       "<AxesSubplot:>"
      ]
     },
     "execution_count": 81,
     "metadata": {},
     "output_type": "execute_result"
    },
    {
     "data": {
      "image/png": "[encoded data removed]",
      "text/plain": [
       "<Figure size 432x288 with 1 Axes>"
      ]
     },
     "metadata": {
      "needs_background": "light"
     },
     "output_type": "display_data"
    }
   ],
   "source": [
    "# Facebook\n",
    "# histogram\n",
    "csv[\"Facebook\"].hist()"
   ]
  },
  {
   "cell_type": "code",
   "execution_count": 101,
   "metadata": {},
   "outputs": [
    {
     "data": {
      "text/plain": [
       "<AxesSubplot:ylabel='Density'>"
      ]
     },
     "execution_count": 101,
     "metadata": {},
     "output_type": "execute_result"
    },
    {
     "data": {
      "image/png": "[encoded data removed]",
      "text/plain": [
       "<Figure size 432x288 with 1 Axes>"
      ]
     },
     "metadata": {
      "needs_background": "light"
     },
     "output_type": "display_data"
    }
   ],
   "source": [
    "# Facebook\n",
    "# kde\n",
    "csv[\"LinkedIn\"].plot.kde()"
   ]
  },
  {
   "cell_type": "code",
   "execution_count": 97,
   "metadata": {},
   "outputs": [
    {
     "data": {
      "text/plain": [
       "<AxesSubplot:>"
      ]
     },
     "execution_count": 97,
     "metadata": {},
     "output_type": "execute_result"
    },
    {
     "data": {
      "image/png": "[encoded data removed]",
      "text/plain": [
       "<Figure size 432x288 with 1 Axes>"
      ]
     },
     "metadata": {
      "needs_background": "light"
     },
     "output_type": "display_data"
    }
   ],
   "source": [
    "# Facebook\n",
    "csv.boxplot()"
   ]
  },
  {
   "cell_type": "code",
   "execution_count": 72,
   "metadata": {},
   "outputs": [
    {
     "data": {
      "text/plain": [
       "<AxesSubplot:>"
      ]
     },
     "execution_count": 72,
     "metadata": {},
     "output_type": "execute_result"
    },
    {
     "data": {
      "image/png": "[encoded data removed]",
      "text/plain": [
       "<Figure size 432x288 with 1 Axes>"
      ]
     },
     "metadata": {
      "needs_background": "light"
     },
     "output_type": "display_data"
    }
   ],
   "source": [
    "# Pinterest\n",
    "csv[\"Pinterest\"].hist()"
   ]
  },
  {
   "cell_type": "code",
   "execution_count": 84,
   "metadata": {},
   "outputs": [
    {
     "data": {
      "text/plain": [
       "<AxesSubplot:>"
      ]
     },
     "execution_count": 84,
     "metadata": {},
     "output_type": "execute_result"
    },
    {
     "data": {
      "image/png": "[encoded data removed]",
      "text/plain": [
       "<Figure size 432x288 with 1 Axes>"
      ]
     },
     "metadata": {
      "needs_background": "light"
     },
     "output_type": "display_data"
    }
   ],
   "source": [
    "# Twitter\n",
    "csv[\"Twitter\"].hist()"
   ]
  },
  {
   "cell_type": "code",
   "execution_count": 74,
   "metadata": {},
   "outputs": [
    {
     "data": {
      "text/plain": [
       "<AxesSubplot:>"
      ]
     },
     "execution_count": 74,
     "metadata": {},
     "output_type": "execute_result"
    },
    {
     "data": {
      "image/png": "[encoded data removed]",
      "text/plain": [
       "<Figure size 432x288 with 1 Axes>"
      ]
     },
     "metadata": {
      "needs_background": "light"
     },
     "output_type": "display_data"
    }
   ],
   "source": [
    "# Youtube\n",
    "csv[\"YouTube\"].hist()"
   ]
  },
  {
   "cell_type": "code",
   "execution_count": 75,
   "metadata": {},
   "outputs": [
    {
     "data": {
      "text/plain": [
       "<AxesSubplot:>"
      ]
     },
     "execution_count": 75,
     "metadata": {},
     "output_type": "execute_result"
    },
    {
     "data": {
      "image/png": "[encoded data removed]",
      "text/plain": [
       "<Figure size 432x288 with 1 Axes>"
      ]
     },
     "metadata": {
      "needs_background": "light"
     },
     "output_type": "display_data"
    }
   ],
   "source": [
    "# Instagran\n",
    "csv[\"Instagram\"].hist()"
   ]
  },
  {
   "cell_type": "code",
   "execution_count": 76,
   "metadata": {},
   "outputs": [
    {
     "data": {
      "text/plain": [
       "<AxesSubplot:>"
      ]
     },
     "execution_count": 76,
     "metadata": {},
     "output_type": "execute_result"
    },
    {
     "data": {
      "image/png": "[encoded data removed]",
      "text/plain": [
       "<Figure size 432x288 with 1 Axes>"
      ]
     },
     "metadata": {
      "needs_background": "light"
     },
     "output_type": "display_data"
    }
   ],
   "source": [
    "# LinkedIn \n",
    "csv[\"LinkedIn\"].hist()"
   ]
  },
  {
   "cell_type": "code",
   "execution_count": 77,
   "metadata": {},
   "outputs": [
    {
     "data": {
      "text/plain": [
       "<AxesSubplot:>"
      ]
     },
     "execution_count": 77,
     "metadata": {},
     "output_type": "execute_result"
    },
    {
     "data": {
      "image/png": "[encoded data removed]",
      "text/plain": [
       "<Figure size 432x288 with 1 Axes>"
      ]
     },
     "metadata": {
      "needs_background": "light"
     },
     "output_type": "display_data"
    }
   ],
   "source": [
    "# Tumblr\n",
    "csv[\"Tumblr\"].hist()"
   ]
  },
  {
   "cell_type": "code",
   "execution_count": 78,
   "metadata": {},
   "outputs": [
    {
     "data": {
      "text/plain": [
       "<AxesSubplot:>"
      ]
     },
     "execution_count": 78,
     "metadata": {},
     "output_type": "execute_result"
    },
    {
     "data": {
      "image/png": "[encoded data removed]",
      "text/plain": [
       "<Figure size 432x288 with 1 Axes>"
      ]
     },
     "metadata": {
      "needs_background": "light"
     },
     "output_type": "display_data"
    }
   ],
   "source": [
    "# reddit\n",
    "csv[\"reddit\"].hist()"
   ]
  },
  {
   "cell_type": "code",
   "execution_count": 79,
   "metadata": {},
   "outputs": [
    {
     "data": {
      "text/plain": [
       "<AxesSubplot:>"
      ]
     },
     "execution_count": 79,
     "metadata": {},
     "output_type": "execute_result"
    },
    {
     "data": {
      "image/png": "[encoded data removed]",
      "text/plain": [
       "<Figure size 432x288 with 1 Axes>"
      ]
     },
     "metadata": {
      "needs_background": "light"
     },
     "output_type": "display_data"
    }
   ],
   "source": [
    "# VKontakte\n",
    "csv[\"VKontakte\"].hist()"
   ]
  },
  {
   "cell_type": "code",
   "execution_count": 80,
   "metadata": {},
   "outputs": [
    {
     "data": {
      "text/plain": [
       "<AxesSubplot:>"
      ]
     },
     "execution_count": 80,
     "metadata": {},
     "output_type": "execute_result"
    },
    {
     "data": {
      "image/png": "[encoded data removed]",
      "text/plain": [
       "<Figure size 432x288 with 1 Axes>"
      ]
     },
     "metadata": {
      "needs_background": "light"
     },
     "output_type": "display_data"
    }
   ],
   "source": [
    "# Google+\n",
    "csv[\"Google+\"].hist()"
   ]
  },
  {
   "cell_type": "code",
   "execution_count": 81,
   "metadata": {},
   "outputs": [
    {
     "data": {
      "text/plain": [
       "<AxesSubplot:>"
      ]
     },
     "execution_count": 81,
     "metadata": {},
     "output_type": "execute_result"
    },
    {
     "data": {
      "image/png": "[encoded data removed]",
      "text/plain": [
       "<Figure size 432x288 with 1 Axes>"
      ]
     },
     "metadata": {
      "needs_background": "light"
     },
     "output_type": "display_data"
    }
   ],
   "source": [
    "# Other\n",
    "csv[\"Other\"].hist()"
   ]
  },
  {
   "cell_type": "code",
   "execution_count": 89,
   "metadata": {},
   "outputs": [
    {
     "data": {
      "text/plain": [
       "<AxesSubplot:>"
      ]
     },
     "execution_count": 89,
     "metadata": {},
     "output_type": "execute_result"
    },
    {
     "data": {
      "image/png": "[encoded data removed]",
      "text/plain": [
       "<Figure size 432x288 with 1 Axes>"
      ]
     },
     "metadata": {
      "needs_background": "light"
     },
     "output_type": "display_data"
    }
   ],
   "source": [
    "csv.plot.barh(stacked=True)"
   ]
  },
  {
   "cell_type": "code",
   "execution_count": 98,
   "metadata": {},
   "outputs": [
    {
     "data": {
      "text/plain": [
       "<AxesSubplot:>"
      ]
     },
     "execution_count": 98,
     "metadata": {},
     "output_type": "execute_result"
    },
    {
     "data": {
      "image/png": "[encoded data removed]",
      "text/plain": [
       "<Figure size 432x288 with 1 Axes>"
      ]
     },
     "metadata": {
      "needs_background": "light"
     },
     "output_type": "display_data"
    }
   ],
   "source": [
    "# boite a moustache\n",
    "csv.boxplot(vert=False, sym=\"r+\")"
   ]
  },
  {
   "cell_type": "code",
   "execution_count": 99,
   "metadata": {},
   "outputs": [
    {
     "data": {
      "text/plain": [
       "<AxesSubplot:>"
      ]
     },
     "execution_count": 99,
     "metadata": {},
     "output_type": "execute_result"
    },
    {
     "data": {
      "image/png": "[encoded data removed]",
      "text/plain": [
       "<Figure size 432x288 with 1 Axes>"
      ]
     },
     "metadata": {
      "needs_background": "light"
     },
     "output_type": "display_data"
    }
   ],
   "source": [
    "# area plot\n",
    "csv.plot.area()"
   ]
  },
  {
   "cell_type": "code",
   "execution_count": 100,
   "metadata": {},
   "outputs": [
    {
     "ename": "ValueError",
     "evalue": "pie requires either y column or 'subplots=True'",
     "output_type": "error",
     "traceback": [
      "\u001b[0;31m---------------------------------------------------------------------------\u001b[0m",
      "\u001b[0;31mValueError\u001b[0m                                Traceback (most recent call last)",
      "\u001b[0;32m<ipython-input-100-5ef7fb7b02f5>\u001b[0m in \u001b[0;36m<module>\u001b[0;34m\u001b[0m\n\u001b[0;32m----> 1\u001b[0;31m \u001b[0mcsv\u001b[0m\u001b[0;34m.\u001b[0m\u001b[0mplot\u001b[0m\u001b[0;34m.\u001b[0m\u001b[0mpie\u001b[0m\u001b[0;34m(\u001b[0m\u001b[0mfigsize\u001b[0m\u001b[0;34m=\u001b[0m\u001b[0;34m(\u001b[0m\u001b[0;36m6\u001b[0m\u001b[0;34m,\u001b[0m \u001b[0;36m6\u001b[0m\u001b[0;34m)\u001b[0m\u001b[0;34m)\u001b[0m\u001b[0;34m;\u001b[0m\u001b[0;34m\u001b[0m\u001b[0;34m\u001b[0m\u001b[0m\n\u001b[0m",
      "\u001b[0;32m/usr/local/anaconda3/lib/python3.8/site-packages/pandas/plotting/_core.py\u001b[0m in \u001b[0;36mpie\u001b[0;34m(self, **kwargs)\u001b[0m\n\u001b[1;32m   1525\u001b[0m             \u001b[0;32mand\u001b[0m \u001b[0;32mnot\u001b[0m \u001b[0mkwargs\u001b[0m\u001b[0;34m.\u001b[0m\u001b[0mget\u001b[0m\u001b[0;34m(\u001b[0m\u001b[0;34m\"subplots\"\u001b[0m\u001b[0;34m,\u001b[0m \u001b[0;32mFalse\u001b[0m\u001b[0;34m)\u001b[0m\u001b[0;34m\u001b[0m\u001b[0;34m\u001b[0m\u001b[0m\n\u001b[1;32m   1526\u001b[0m         ):\n\u001b[0;32m-> 1527\u001b[0;31m             \u001b[0;32mraise\u001b[0m \u001b[0mValueError\u001b[0m\u001b[0;34m(\u001b[0m\u001b[0;34m\"pie requires either y column or 'subplots=True'\"\u001b[0m\u001b[0;34m)\u001b[0m\u001b[0;34m\u001b[0m\u001b[0;34m\u001b[0m\u001b[0m\n\u001b[0m\u001b[1;32m   1528\u001b[0m         \u001b[0;32mreturn\u001b[0m \u001b[0mself\u001b[0m\u001b[0;34m(\u001b[0m\u001b[0mkind\u001b[0m\u001b[0;34m=\u001b[0m\u001b[0;34m\"pie\"\u001b[0m\u001b[0;34m,\u001b[0m \u001b[0;34m**\u001b[0m\u001b[0mkwargs\u001b[0m\u001b[0;34m)\u001b[0m\u001b[0;34m\u001b[0m\u001b[0;34m\u001b[0m\u001b[0m\n\u001b[1;32m   1529\u001b[0m \u001b[0;34m\u001b[0m\u001b[0m\n",
      "\u001b[0;31mValueError\u001b[0m: pie requires either y column or 'subplots=True'"
     ]
    }
   ],
   "source": [
    "csv.plot.pie(figsize=(6, 6));"
   ]
  },
  {
   "cell_type": "code",
   "execution_count": 1,
   "metadata": {},
   "outputs": [
    {
     "ename": "ModuleNotFoundError",
     "evalue": "No module named 'vcsn'",
     "output_type": "error",
     "traceback": [
      "\u001b[0;31m---------------------------------------------------------------------------\u001b[0m",
      "\u001b[0;31mModuleNotFoundError\u001b[0m                       Traceback (most recent call last)",
      "\u001b[0;32m<ipython-input-1-f842bd4bb8cf>\u001b[0m in \u001b[0;36m<module>\u001b[0;34m\u001b[0m\n\u001b[0;32m----> 1\u001b[0;31m \u001b[0;32mimport\u001b[0m \u001b[0mvcsn\u001b[0m\u001b[0;34m\u001b[0m\u001b[0;34m\u001b[0m\u001b[0m\n\u001b[0m",
      "\u001b[0;31mModuleNotFoundError\u001b[0m: No module named 'vcsn'"
     ]
    }
   ],
   "source": [
    "import vcsn"
   ]
  },
  {
   "cell_type": "code",
   "execution_count": null,
   "metadata": {},
   "outputs": [],
   "source": []
  }
 ],
 "metadata": {
  "kernelspec": {
   "display_name": "Python 3",
   "language": "python",
   "name": "python3"
  },
  "language_info": {
   "codemirror_mode": {
    "name": "ipython",
    "version": 3
   },
   "file_extension": ".py",
   "mimetype": "text/x-python",
   "name": "python",
   "nbconvert_exporter": "python",
   "pygments_lexer": "ipython3",
   "version": "3.8.5"
  }
 },
 "nbformat": 4,
 "nbformat_minor": 4
}
