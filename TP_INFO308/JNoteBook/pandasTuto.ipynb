{
 "cells": [
  {
   "cell_type": "code",
   "execution_count": 1,
   "metadata": {},
   "outputs": [],
   "source": [
    "#TRAVAIL DU GROUPE"
   ]
  },
  {
   "cell_type": "code",
   "execution_count": 1,
   "metadata": {},
   "outputs": [],
   "source": [
    "# MEMBRES DU GROUPE "
   ]
  },
  {
   "cell_type": "code",
   "execution_count": 3,
   "metadata": {},
   "outputs": [],
   "source": [
    "# DJIEMBOU TIENTCHEU VICTOR NICO\n",
    "# KENFACK TEMGOUA VANESSA\n",
    "# BAKANG EKOSSO SALMA RIHANA\n",
    "# TITTI URSULA SOREL\n"
   ]
  },
  {
   "cell_type": "code",
   "execution_count": 2,
   "metadata": {},
   "outputs": [],
   "source": [
    "# INFO 308 : APPRENTISSAGE DE PANDA"
   ]
  },
  {
   "cell_type": "markdown",
   "metadata": {},
   "source": [
    "### CHARGEMENT ET DESCRIPTION DES DONNEES"
   ]
  },
  {
   "cell_type": "code",
   "execution_count": 2,
   "metadata": {},
   "outputs": [
    {
     "name": "stdout",
     "output_type": "stream",
     "text": [
      "1.1.3\n"
     ]
    }
   ],
   "source": [
    "# comment importer la librairie pandas dans un projet?\n",
    "import pandas\n",
    "# comment definir le definir le nombre max de ligne par a afficher\n",
    "pandas.options.display.max_rows = 10\n",
    "# comment verifier la version de pandas installé\n",
    "print(pandas.__version__)"
   ]
  },
  {
   "cell_type": "code",
   "execution_count": 3,
   "metadata": {},
   "outputs": [],
   "source": [
    "# comment charger un fichier ?\n",
    "# sep : definir comment les donnees sont separees\n",
    "# header : definir la position des entetes de donnees dans le fichier\n",
    "\n",
    "# import csv file, to export do to_csv()\n",
    "csv = pandas.read_csv(\"../heart.csv\",sep = '\\t',header = 0)\n",
    "# import all other file, to export do to_table()\n",
    "df = pandas.read_table(\"../heart.txt\",sep = '\\t',header = 0)\n",
    "# import excel : read_excel() or to_excel()\n",
    "# hdf5 file, read_hdf5() and to_hdf5()\n"
   ]
  },
  {
   "cell_type": "code",
   "execution_count": 4,
   "metadata": {},
   "outputs": [
    {
     "name": "stdout",
     "output_type": "stream",
     "text": [
      "csv data as <class 'pandas.core.frame.DataFrame'>, and txt data as <class 'pandas.core.frame.DataFrame'>\n"
     ]
    }
   ],
   "source": [
    "# a data import from file have a type that we can check\n",
    "print(\"csv data as {}, and txt data as {}\".format(type(csv),type(df)))"
   ]
  },
  {
   "cell_type": "code",
   "execution_count": 5,
   "metadata": {},
   "outputs": [
    {
     "name": "stdout",
     "output_type": "stream",
     "text": [
      "the population of csv data is (270, 13) and of df is (270, 13)\n"
     ]
    }
   ],
   "source": [
    "# nous sommes aussi capable de comptabiliser le nombre de ligne ou la population de nos donnees\n",
    "print(\"the population of csv data is {} and of df is {}\".format(csv.shape, df.shape))\n",
    "# (number of rows, number of cols)\n",
    "      "
   ]
  },
  {
   "cell_type": "code",
   "execution_count": 6,
   "metadata": {},
   "outputs": [
    {
     "name": "stdout",
     "output_type": "stream",
     "text": [
      "   age      sexe type_douleur  pression  cholester sucre electro  taux_max  \\\n",
      "0   70  masculin            D       130        322     A       C       109   \n",
      "1   67   feminin            C       115        564     A       C       160   \n",
      "2   57  masculin            B       124        261     A       A       141   \n",
      "3   64  masculin            D       128        263     A       A       105   \n",
      "4   74   feminin            B       120        269     A       C       121   \n",
      "\n",
      "  angine  depression  pic vaisseau     coeur  \n",
      "0    non         2.4    2        D  presence  \n",
      "1    non         1.6    2        A   absence  \n",
      "2    non         0.3    1        A  presence  \n",
      "3    oui         0.2    2        B   absence  \n",
      "4    oui         0.2    1        B   absence  \n",
      "\n",
      "\n",
      "\n",
      "   age      sexe type_douleur  pression  cholester sucre electro  taux_max  \\\n",
      "0   70  masculin            D       130        322     A       C       109   \n",
      "1   67   feminin            C       115        564     A       C       160   \n",
      "2   57  masculin            B       124        261     A       A       141   \n",
      "3   64  masculin            D       128        263     A       A       105   \n",
      "4   74   feminin            B       120        269     A       C       121   \n",
      "5   65  masculin            D       120        177     A       A       140   \n",
      "6   56  masculin            C       130        256     B       C       142   \n",
      "7   59  masculin            D       110        239     A       C       142   \n",
      "8   60  masculin            D       140        293     A       C       170   \n",
      "9   63   feminin            D       150        407     A       C       154   \n",
      "\n",
      "  angine  depression  pic vaisseau     coeur  \n",
      "0    non         2.4    2        D  presence  \n",
      "1    non         1.6    2        A   absence  \n",
      "2    non         0.3    1        A  presence  \n",
      "3    oui         0.2    2        B   absence  \n",
      "4    oui         0.2    1        B   absence  \n",
      "5    non         0.4    1        A   absence  \n",
      "6    oui         0.6    2        B  presence  \n",
      "7    oui         1.2    2        B  presence  \n",
      "8    non         1.2    2        C  presence  \n",
      "9    non         4.0    2        D  presence  \n",
      "\n"
     ]
    }
   ],
   "source": [
    "# nous sommes egalement capable d'afficher les premieres lignes de notre jeu de donnees structure en dataframe\n",
    "# la methode qui permet cela est \n",
    "# .head(number_of_rows=5)\n",
    "print(csv.head())\n",
    "print(\"\"\"\n",
    "\n",
    "\n",
    "{}\n",
    "\"\"\".format(df.head(10)))"
   ]
  },
  {
   "cell_type": "code",
   "execution_count": 7,
   "metadata": {},
   "outputs": [
    {
     "name": "stdout",
     "output_type": "stream",
     "text": [
      "age               int64\n",
      "sexe             object\n",
      "type_douleur     object\n",
      "pression          int64\n",
      "cholester         int64\n",
      "                 ...   \n",
      "angine           object\n",
      "depression      float64\n",
      "pic               int64\n",
      "vaisseau         object\n",
      "coeur            object\n",
      "Length: 13, dtype: object\n",
      "\n",
      "\n",
      "\n",
      "age               int64\n",
      "sexe             object\n",
      "type_douleur     object\n",
      "pression          int64\n",
      "cholester         int64\n",
      "                 ...   \n",
      "angine           object\n",
      "depression      float64\n",
      "pic               int64\n",
      "vaisseau         object\n",
      "coeur            object\n",
      "Length: 13, dtype: object\n",
      "\n"
     ]
    }
   ],
   "source": [
    "# pandas nous permet egalement de connaiter le type de donnees\n",
    "# de chaque variable de notre dataframe\n",
    "# ceci est utile car nous pourons des alors distinguer les donnees\n",
    "# quantitatives des donnees qualitative ou categorielles de notre dataframe et ainsi savoir comment appliquer les manipulation sur ses variables\n",
    "# pour la cause, la methode \n",
    "# .dtypes nous est d'une grande utilite\n",
    "print(csv.dtypes)\n",
    "print(\"\"\"\n",
    "\n",
    "\n",
    "{}\n",
    "\"\"\".format(df.dtypes))"
   ]
  },
  {
   "cell_type": "code",
   "execution_count": 8,
   "metadata": {},
   "outputs": [
    {
     "name": "stdout",
     "output_type": "stream",
     "text": [
      "<class 'pandas.core.frame.DataFrame'>\n",
      "RangeIndex: 270 entries, 0 to 269\n",
      "Data columns (total 13 columns):\n",
      " #   Column        Non-Null Count  Dtype  \n",
      "---  ------        --------------  -----  \n",
      " 0   age           270 non-null    int64  \n",
      " 1   sexe          270 non-null    object \n",
      " 2   type_douleur  270 non-null    object \n",
      " 3   pression      270 non-null    int64  \n",
      " 4   cholester     270 non-null    int64  \n",
      " 5   sucre         270 non-null    object \n",
      " 6   electro       270 non-null    object \n",
      " 7   taux_max      270 non-null    int64  \n",
      " 8   angine        270 non-null    object \n",
      " 9   depression    270 non-null    float64\n",
      " 10  pic           270 non-null    int64  \n",
      " 11  vaisseau      270 non-null    object \n",
      " 12  coeur         270 non-null    object \n",
      "dtypes: float64(1), int64(5), object(7)\n",
      "memory usage: 27.5+ KB\n",
      "<class 'pandas.core.frame.DataFrame'>\n",
      "RangeIndex: 270 entries, 0 to 269\n",
      "Data columns (total 13 columns):\n",
      " #   Column        Non-Null Count  Dtype  \n",
      "---  ------        --------------  -----  \n",
      " 0   age           270 non-null    int64  \n",
      " 1   sexe          270 non-null    object \n",
      " 2   type_douleur  270 non-null    object \n",
      " 3   pression      270 non-null    int64  \n",
      " 4   cholester     270 non-null    int64  \n",
      " 5   sucre         270 non-null    object \n",
      " 6   electro       270 non-null    object \n",
      " 7   taux_max      270 non-null    int64  \n",
      " 8   angine        270 non-null    object \n",
      " 9   depression    270 non-null    float64\n",
      " 10  pic           270 non-null    int64  \n",
      " 11  vaisseau      270 non-null    object \n",
      " 12  coeur         270 non-null    object \n",
      "dtypes: float64(1), int64(5), object(7)\n",
      "memory usage: 27.5+ KB\n",
      "\n",
      "-------_->csv\n",
      "None\n",
      "-------_->df\n",
      "None\n",
      "\n"
     ]
    }
   ],
   "source": [
    "# dans une analyse de donnees, il est important d'avoir des informations sur les donnees\n",
    "# nottament sur les differentes proprietes de variables\n",
    "# la methode .info()\n",
    "print(\"\"\"\n",
    "-------_->csv\n",
    "{}\n",
    "-------_->df\n",
    "{}\n",
    "\"\"\".format(csv.info(),df.info()))"
   ]
  },
  {
   "cell_type": "code",
   "execution_count": 9,
   "metadata": {},
   "outputs": [
    {
     "name": "stdout",
     "output_type": "stream",
     "text": [
      "              age    pression   cholester    taux_max  depression         pic\n",
      "count  270.000000  270.000000  270.000000  270.000000   270.00000  270.000000\n",
      "mean    54.433333  131.344444  249.659259  149.677778     1.05000    1.585185\n",
      "std      9.109067   17.861608   51.686237   23.165717     1.14521    0.614390\n",
      "min     29.000000   94.000000  126.000000   71.000000     0.00000    1.000000\n",
      "25%     48.000000  120.000000  213.000000  133.000000     0.00000    1.000000\n",
      "50%     55.000000  130.000000  245.000000  153.500000     0.80000    2.000000\n",
      "75%     61.000000  140.000000  280.000000  166.000000     1.60000    2.000000\n",
      "max     77.000000  200.000000  564.000000  202.000000     6.20000    3.000000\n"
     ]
    }
   ],
   "source": [
    "# nous pouvons aussi avoir la description sur nos donnees\n",
    "# la methode .describe(param1,param*)\n",
    "print(csv.describe())"
   ]
  },
  {
   "cell_type": "code",
   "execution_count": null,
   "metadata": {},
   "outputs": [],
   "source": []
  }
 ],
 "metadata": {
  "kernelspec": {
   "display_name": "Python 3",
   "language": "python",
   "name": "python3"
  },
  "language_info": {
   "codemirror_mode": {
    "name": "ipython",
    "version": 3
   },
   "file_extension": ".py",
   "mimetype": "text/x-python",
   "name": "python",
   "nbconvert_exporter": "python",
   "pygments_lexer": "ipython3",
   "version": "3.8.5"
  }
 },
 "nbformat": 4,
 "nbformat_minor": 4
}
